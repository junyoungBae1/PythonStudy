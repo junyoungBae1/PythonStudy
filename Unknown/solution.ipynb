{
 "cells": [
  {
   "cell_type": "code",
   "execution_count": 11,
   "id": "2660d5e8",
   "metadata": {},
   "outputs": [
    {
     "name": "stdout",
     "output_type": "stream",
     "text": [
      "5\n",
      "....x\n",
      "...xx\n",
      "x...x\n",
      "x..xx\n",
      "..x..\n",
      "6 3\n"
     ]
    }
   ],
   "source": [
    "# 백준 1652번 누울 자리를 찾아라 https://www.acmicpc.net/problem/1652\n",
    "\n",
    "N = int(input())\n",
    "room = []\n",
    "for i in range(0,N):\n",
    "    a = list(str(input()))\n",
    "    room.append(a)\n",
    "\n",
    "dotcnt = 0\n",
    "rowcnt = 0\n",
    "colcnt = 0\n",
    "\n",
    "for i in range(0,N):\n",
    "    for j in range(0,N):\n",
    "        if(room[i][j] == \".\"):\n",
    "            dotcnt += 1\n",
    "        else:\n",
    "            if(dotcnt >= 2):\n",
    "                rowcnt += 1\n",
    "            dotcnt = 0\n",
    "    if(dotcnt >= 2):\n",
    "        rowcnt += 1\n",
    "    dotcnt = 0\n",
    "\n",
    "for j in range(0,N):\n",
    "    for i in range(0,N):\n",
    "        if(room[i][j] == \".\"):\n",
    "            dotcnt += 1\n",
    "        else:\n",
    "            if(dotcnt >= 2):\n",
    "                colcnt += 1\n",
    "            dotcnt = 0\n",
    "    if(dotcnt >= 2):\n",
    "        colcnt += 1\n",
    "    dotcnt = 0\n",
    "\n",
    "print(rowcnt,colcnt)"
   ]
  },
  {
   "cell_type": "code",
   "execution_count": null,
   "id": "0bcd95f7",
   "metadata": {},
   "outputs": [],
   "source": []
  }
 ],
 "metadata": {
  "kernelspec": {
   "display_name": "Python 3 (ipykernel)",
   "language": "python",
   "name": "python3"
  },
  "language_info": {
   "codemirror_mode": {
    "name": "ipython",
    "version": 3
   },
   "file_extension": ".py",
   "mimetype": "text/x-python",
   "name": "python",
   "nbconvert_exporter": "python",
   "pygments_lexer": "ipython3",
   "version": "3.10.4"
  }
 },
 "nbformat": 4,
 "nbformat_minor": 5
}
